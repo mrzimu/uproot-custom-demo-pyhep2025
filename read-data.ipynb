{
 "cells": [
  {
   "cell_type": "markdown",
   "id": "a2722a0b",
   "metadata": {},
   "source": [
    "# Example: Class with `Streamer` method overridden"
   ]
  },
  {
   "cell_type": "markdown",
   "id": "e53a550f",
   "metadata": {},
   "source": [
    "## Standalone object"
   ]
  },
  {
   "cell_type": "markdown",
   "id": "994d8fdb",
   "metadata": {},
   "source": [
    "We define a class `TOverrideStreamer` with 2 member variables:\n",
    "\n",
    "```c++\n",
    "class TOverrideStreamer : public TObject {\n",
    "    int m_int{ 0 };\n",
    "    double m_double{ 0.0 };\n",
    "\n",
    "    // ... other codes ...\n",
    "};\n",
    "```\n",
    "\n",
    "Its `Streamer` method is overridden, with additionally writting a \"tag\" `0x12345678`:\n",
    "\n",
    "```c++\n",
    "void TOverrideStreamer::Streamer( TBuffer& b ) {\n",
    "    if ( b.IsWriting() )\n",
    "    {\n",
    "        TObject::Streamer( b ); // Call base class Streamer\n",
    "        b << m_int;\n",
    "        b << 0x12345678; // Write a tag\n",
    "        b << m_double;\n",
    "    }\n",
    "    else\n",
    "    {\n",
    "        // ... reading logic ...\n",
    "    }\n",
    "}\n",
    "```"
   ]
  },
  {
   "cell_type": "markdown",
   "id": "bc5cd092",
   "metadata": {},
   "source": [
    "### `Uproot` cannot handle it natively\n",
    "\n",
    "When reading a `TOverrideStreamer` object with `Uproot`, it will raise an error because `Uproot` does not know how to handle the overridden `Streamer` method."
   ]
  },
  {
   "cell_type": "code",
   "execution_count": null,
   "id": "8a4b6675",
   "metadata": {},
   "outputs": [],
   "source": [
    "import uproot\n",
    "\n",
    "f = uproot.open(\"demo-data.root\")\n",
    "b = f[\"my_tree/standalone_obj\"]\n",
    "b.show(name_width=40, typename_width=40)"
   ]
  },
  {
   "cell_type": "code",
   "execution_count": null,
   "id": "eef4ffa7",
   "metadata": {},
   "outputs": [],
   "source": [
    "try:\n",
    "    b.array()\n",
    "except Exception as e:\n",
    "    print(repr(e))"
   ]
  },
  {
   "cell_type": "markdown",
   "id": "3f310b13",
   "metadata": {},
   "source": [
    "## How `uproot-custom` reads it\n",
    "\n",
    "```mermaid\n",
    "flowchart TD\n",
    "    subgraph py[\"Python field\"]\n",
    "        direction TB\n",
    "        AsCustom --> fac[\"Factory (Primitive, STLVector, TString, ...)\"]\n",
    "        fac[\"Factory (Primitive, STLVector, TString, ...)\"] -- Optional --> form([\"construct awkward forms\"])\n",
    "        fac --> build_reader([\"build corresponding C++ reader\"])\n",
    "        fac --> build_ak([\"construct awkward arrays\"])\n",
    "    end\n",
    "\n",
    "    user_fac[\"User's Factory\"] -. Register .-> fac\n",
    "\n",
    "    subgraph cpp[\"C++ field\"]\n",
    "        direction TB\n",
    "        build_reader --> reader[\"C++ Reader\"]\n",
    "        reader --> read_bin([\"read binary data\"])\n",
    "        read_bin --> ret_data([\"return data\"])\n",
    "    end\n",
    "\n",
    "    ret_data --> raw_data[(\"tuple, list, numpy arrays, ...\")]\n",
    "    raw_data --> build_ak\n",
    "```"
   ]
  },
  {
   "cell_type": "markdown",
   "id": "146e913a",
   "metadata": {},
   "source": [
    "### C++ \"reader\" for `TOverrideStreamer`\n",
    "\n",
    "To read the `TOverrideStreamer` object correctly, we need to implement a custom reader in `uproot-custom` that knows how to skip the tag during reading:\n",
    "\n",
    "```c++\n",
    "class OverrideStreamerReader : public IElementReader {\n",
    "  private:\n",
    "    std::shared_ptr<std::vector<int>> m_data_ints;\n",
    "    std::shared_ptr<std::vector<double>> m_data_doubles;\n",
    "    // ... other codes ...\n",
    "\n",
    "  public:\n",
    "    void read( BinaryBuffer& buffer ) {\n",
    "        buffer.skip_TObject();\n",
    "\n",
    "        m_data_ints->push_back( buffer.read<int>() );\n",
    "\n",
    "        auto tag = buffer.read<uint32_t>();\n",
    "        if ( tag != 0x12345678 ) throw std::runtime_error( \"Error: Unexpected tag value.\" );\n",
    "\n",
    "        m_data_doubles->push_back( buffer.read<double>() );\n",
    "    }\n",
    "\n",
    "    py::object data() const {\n",
    "        auto int_array    = make_array( m_data_ints );\n",
    "        auto double_array = make_array( m_data_doubles );\n",
    "        return py::make_tuple( int_array, double_array );\n",
    "    }\n",
    "\n",
    "    // ... other codes ...\n",
    "};\n",
    "```\n"
   ]
  },
  {
   "cell_type": "markdown",
   "id": "8d467579",
   "metadata": {},
   "source": [
    "### Python \"factory\" for `TOverrideStreamer`\n",
    "\n",
    "Python factory receives the raw data from the C++ reader and constructs the corresponding `awkward` array and form:\n",
    "\n",
    "```python\n",
    "class OverrideStreamerFactory(Factory):\n",
    "    # ... other codes ...\n",
    "\n",
    "    def make_awkward_content(self, raw_data):\n",
    "        int_array, double_array = raw_data\n",
    "\n",
    "        return awkward.contents.RecordArray(\n",
    "            [\n",
    "                awkward.contents.NumpyArray(int_array),\n",
    "                awkward.contents.NumpyArray(double_array),\n",
    "            ],\n",
    "            [\"m_int\", \"m_double\"],\n",
    "        )\n",
    "```"
   ]
  },
  {
   "cell_type": "code",
   "execution_count": null,
   "id": "122899e5",
   "metadata": {},
   "outputs": [],
   "source": [
    "import uproot_custom\n",
    "\n",
    "from my_reader import OverrideStreamerFactory\n",
    "\n",
    "# Register custom factory\n",
    "uproot_custom.registered_factories.add(OverrideStreamerFactory)\n",
    "\n",
    "# Specify target branches\n",
    "uproot_custom.AsCustom.target_branches.add(\"/my_tree:standalone_obj\")"
   ]
  },
  {
   "cell_type": "code",
   "execution_count": null,
   "id": "d3d95cf6",
   "metadata": {},
   "outputs": [],
   "source": [
    "f = uproot.open(\"demo-data.root\")\n",
    "b = f[\"my_tree/standalone_obj\"]\n",
    "b.show(name_width=40, typename_width=40)"
   ]
  },
  {
   "cell_type": "code",
   "execution_count": null,
   "id": "f30920e3",
   "metadata": {},
   "outputs": [],
   "source": [
    "b.array()"
   ]
  },
  {
   "cell_type": "markdown",
   "id": "e3b0c3ab",
   "metadata": {},
   "source": [
    "## Reusing the custom reader and factory\n",
    "\n",
    "Once the custom reader and factory are implemented, `uproot-custom` can automatically use them to read more complex data structures that contain `TOverrideStreamer` objects, such as:\n",
    "\n",
    "- `std::vector<TOverrideStreamer>`\n",
    "- `std::map<int, TOverrideStreamer>`\n",
    "- ..."
   ]
  },
  {
   "cell_type": "code",
   "execution_count": null,
   "id": "9a14d663",
   "metadata": {},
   "outputs": [],
   "source": [
    "uproot_custom.AsCustom.target_branches |= {\n",
    "    \"/my_tree:my_obj/m_objVec\",\n",
    "    \"/my_tree:my_obj/m_objMap/m_objMap.second\",\n",
    "}"
   ]
  },
  {
   "cell_type": "code",
   "execution_count": null,
   "id": "851806a7",
   "metadata": {},
   "outputs": [],
   "source": [
    "f = uproot.open(\"demo-data.root\")\n",
    "b = f[\"my_tree/my_obj\"]\n",
    "b.show(name_width=40, typename_width=40, filter_name=\"m_obj*\")"
   ]
  },
  {
   "cell_type": "code",
   "execution_count": null,
   "id": "a53396af",
   "metadata": {},
   "outputs": [],
   "source": [
    "b.arrays(filter_name=\"m_obj*\")"
   ]
  },
  {
   "cell_type": "markdown",
   "id": "55eba897",
   "metadata": {},
   "source": [
    "## Using `uproot.dask`\n",
    "\n",
    "Users know concrete structure of `awkward` contents, so the factory can also build the `awkward` form:\n",
    "\n",
    "```python\n",
    "class OverrideStreamerFactory(Factory):\n",
    "    # ... other codes ...\n",
    "    def make_awkward_form(self):\n",
    "        return awkward.forms.RecordForm(\n",
    "            [\n",
    "                awkward.forms.NumpyForm(\"int32\"),\n",
    "                awkward.forms.NumpyForm(\"float64\"),\n",
    "            ],\n",
    "            [\"m_int\", \"m_double\"],\n",
    "        )\n",
    "```\n",
    "\n",
    "so we can even use `uproot.dask` to read:"
   ]
  },
  {
   "cell_type": "code",
   "execution_count": null,
   "id": "98819654",
   "metadata": {},
   "outputs": [],
   "source": [
    "arr_dask = uproot.dask(\"demo-data.root:my_tree/standalone_obj\")\n",
    "arr_dask.type"
   ]
  },
  {
   "cell_type": "code",
   "execution_count": null,
   "id": "20172031",
   "metadata": {},
   "outputs": [],
   "source": [
    "arr_dask.compute()"
   ]
  }
 ],
 "metadata": {
  "kernelspec": {
   "display_name": ".venv",
   "language": "python",
   "name": "python3"
  },
  "language_info": {
   "codemirror_mode": {
    "name": "ipython",
    "version": 3
   },
   "file_extension": ".py",
   "mimetype": "text/x-python",
   "name": "python",
   "nbconvert_exporter": "python",
   "pygments_lexer": "ipython3",
   "version": "3.11.11"
  }
 },
 "nbformat": 4,
 "nbformat_minor": 5
}
