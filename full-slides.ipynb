{
 "cells": [
  {
   "cell_type": "markdown",
   "metadata": {},
   "source": [
    "## Example: Class with `Streamer` method overridden\n",
    "\n",
    "Class definition:\n",
    "\n",
    "```cpp\n",
    "class TOverrideStreamer : public TObject {\n",
    "private:\n",
    "  int m_int{0};\n",
    "  double m_double{0.0};\n",
    "  \n",
    "  // ... other codes ...\n",
    "};\n",
    "```"
   ]
  },
  {
   "cell_type": "markdown",
   "metadata": {},
   "source": [
    "We override its `Streamer` method, which reads/writes data with an additional tag:\n",
    "\n",
    "```cpp\n",
    "void TOverrideStreamer::Streamer( TBuffer& b ) {\n",
    "    if ( b.IsWriting() )\n",
    "    {\n",
    "        TObject::Streamer( b ); // Call base class Streamer\n",
    "        b << m_int;\n",
    "        b << 0x12345678; // Write a tag\n",
    "        b << m_double;\n",
    "    }\n",
    "    else\n",
    "    {\n",
    "        TObject::Streamer( b ); // Call base class Streamer\n",
    "\n",
    "        b >> m_int;\n",
    "\n",
    "        // Read the tag\n",
    "        unsigned int tag;\n",
    "        b >> tag;\n",
    "        if ( tag != 0x12345678 )\n",
    "        {\n",
    "            std::cerr << \"Error: Unexpected tag value: \" << std::hex << tag << std::dec\n",
    "                      << std::endl;\n",
    "            return;\n",
    "        }\n",
    "\n",
    "        b >> m_double;\n",
    "    }\n",
    "}\n",
    "```"
   ]
  },
  {
   "cell_type": "markdown",
   "metadata": {},
   "source": [
    "We define another class that contains STL containers of the above class:\n",
    "\n",
    "```cpp\n",
    "class TObjInSTL : public TObject {\n",
    "private:\n",
    "  std::vector<TOverrideStreamer> m_objVec;\n",
    "  std::map<int, TOverrideStreamer> m_objMap;\n",
    "\n",
    "  // ... other codes ...\n",
    "};\n",
    "```"
   ]
  }
 ],
 "metadata": {
  "kernelspec": {
   "display_name": ".venv",
   "language": "python",
   "name": "python3"
  },
  "language_info": {
   "codemirror_mode": {
    "name": "ipython",
    "version": 3
   },
   "file_extension": ".py",
   "mimetype": "text/x-python",
   "name": "python",
   "nbconvert_exporter": "python",
   "pygments_lexer": "ipython3",
   "version": "3.12.3"
  }
 },
 "nbformat": 4,
 "nbformat_minor": 2
}
