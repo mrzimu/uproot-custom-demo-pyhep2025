{
 "cells": [
  {
   "cell_type": "markdown",
   "id": "a2722a0b",
   "metadata": {},
   "source": [
    "# Example: Class with `Streamer` method overridden"
   ]
  },
  {
   "cell_type": "markdown",
   "id": "e53a550f",
   "metadata": {},
   "source": [
    "## Standalone object"
   ]
  },
  {
   "cell_type": "markdown",
   "id": "994d8fdb",
   "metadata": {},
   "source": [
    "We define a class `TOverrideStreamer` with 2 member variables:\n",
    "\n",
    "```c++\n",
    "class TOverrideStreamer : public TObject {\n",
    "    int m_int{ 0 };\n",
    "    double m_double{ 0.0 };\n",
    "\n",
    "    // ... other codes ...\n",
    "};\n",
    "```\n",
    "\n",
    "Its `Streamer` method is overridden, with additionally writting a \"tag\" `0x12345678`:\n",
    "\n",
    "```c++\n",
    "void TOverrideStreamer::Streamer( TBuffer& b ) {\n",
    "    if ( b.IsWriting() )\n",
    "    {\n",
    "        TObject::Streamer( b ); // Call base class Streamer\n",
    "        b << m_int;\n",
    "        b << 0x12345678; // Write a tag\n",
    "        b << m_double;\n",
    "    }\n",
    "    else\n",
    "    {\n",
    "        // ... reading logic ...\n",
    "    }\n",
    "}\n",
    "```"
   ]
  },
  {
   "cell_type": "markdown",
   "id": "bc5cd092",
   "metadata": {},
   "source": [
    "### `Uproot` cannot handle it natively\n",
    "\n",
    "When reading a `TOverrideStreamer` object with `Uproot`, it will raise an error because `Uproot` does not know how to handle the overridden `Streamer` method."
   ]
  },
  {
   "cell_type": "code",
   "execution_count": 1,
   "id": "8a4b6675",
   "metadata": {},
   "outputs": [
    {
     "name": "stdout",
     "output_type": "stream",
     "text": [
      "name                                     | typename                                 | interpretation                \n",
      "-----------------------------------------+------------------------------------------+-------------------------------\n",
      "standalone_obj                           | TOverrideStreamer                        | AsStridedObjects(Model_TOverri\n"
     ]
    }
   ],
   "source": [
    "import uproot\n",
    "\n",
    "f = uproot.open(\"demo-data.root\")\n",
    "b = f[\"my_tree/standalone_obj\"]\n",
    "b.show(name_width=40, typename_width=40)"
   ]
  },
  {
   "cell_type": "code",
   "execution_count": 2,
   "id": "eef4ffa7",
   "metadata": {},
   "outputs": [
    {
     "name": "stdout",
     "output_type": "stream",
     "text": [
      "ValueError('invalid shape in fixed-type tuple: dimension smaller then zero.')\n"
     ]
    }
   ],
   "source": [
    "try:\n",
    "    b.array()\n",
    "except Exception as e:\n",
    "    print(repr(e))"
   ]
  },
  {
   "cell_type": "markdown",
   "id": "3f310b13",
   "metadata": {},
   "source": [
    "## How `uproot-custom` reads it\n",
    "\n",
    "```mermaid\n",
    "flowchart TD\n",
    "    subgraph py[\"Python field\"]\n",
    "        direction TB\n",
    "        AsCustom --> fac[\"Factory (Primitive, STLVector, TString, ...)\"]\n",
    "        fac[\"Factory (Primitive, STLVector, TString, ...)\"] -- Optional --> form([\"construct awkward forms\"])\n",
    "        fac --> build_reader([\"build corresponding C++ reader\"])\n",
    "        fac --> build_ak([\"construct awkward arrays\"])\n",
    "    end\n",
    "\n",
    "    user_fac[\"User's Factory\"] -. Register .-> fac\n",
    "\n",
    "    subgraph cpp[\"C++ field\"]\n",
    "        direction TB\n",
    "        build_reader --> reader[\"C++ Reader\"]\n",
    "        reader --> read_bin([\"read binary data\"])\n",
    "        read_bin --> ret_data([\"return data\"])\n",
    "    end\n",
    "\n",
    "    ret_data --> raw_data[(\"tuple, list, numpy arrays, ...\")]\n",
    "    raw_data --> build_ak\n",
    "```"
   ]
  },
  {
   "cell_type": "markdown",
   "id": "146e913a",
   "metadata": {},
   "source": [
    "### C++ \"reader\" for `TOverrideStreamer`\n",
    "\n",
    "To read the `TOverrideStreamer` object correctly, we need to implement a custom reader in `uproot-custom` that knows how to skip the tag during reading:\n",
    "\n",
    "```c++\n",
    "class OverrideStreamerReader : public IElementReader {\n",
    "  private:\n",
    "    std::shared_ptr<std::vector<int>> m_data_ints;\n",
    "    std::shared_ptr<std::vector<double>> m_data_doubles;\n",
    "    // ... other codes ...\n",
    "\n",
    "  public:\n",
    "    void read( BinaryBuffer& buffer ) {\n",
    "        buffer.skip_TObject();\n",
    "\n",
    "        m_data_ints->push_back( buffer.read<int>() );\n",
    "\n",
    "        auto tag = buffer.read<uint32_t>();\n",
    "        if ( tag != 0x12345678 ) throw std::runtime_error( \"Error: Unexpected tag value.\" );\n",
    "\n",
    "        m_data_doubles->push_back( buffer.read<double>() );\n",
    "    }\n",
    "\n",
    "    py::object data() const {\n",
    "        auto int_array    = make_array( m_data_ints );\n",
    "        auto double_array = make_array( m_data_doubles );\n",
    "        return py::make_tuple( int_array, double_array );\n",
    "    }\n",
    "\n",
    "    // ... other codes ...\n",
    "};\n",
    "```\n"
   ]
  },
  {
   "cell_type": "markdown",
   "id": "8d467579",
   "metadata": {},
   "source": [
    "### Python \"factory\" for `TOverrideStreamer`\n",
    "\n",
    "Python factory receives the raw data from the C++ reader and constructs the corresponding `awkward` array and form:\n",
    "\n",
    "```python\n",
    "class OverrideStreamerFactory(Factory):\n",
    "    # ... other codes ...\n",
    "\n",
    "    def make_awkward_content(self, raw_data):\n",
    "        int_array, double_array = raw_data\n",
    "\n",
    "        return awkward.contents.RecordArray(\n",
    "            [\n",
    "                awkward.contents.NumpyArray(int_array),\n",
    "                awkward.contents.NumpyArray(double_array),\n",
    "            ],\n",
    "            [\"m_int\", \"m_double\"],\n",
    "        )\n",
    "```"
   ]
  },
  {
   "cell_type": "code",
   "execution_count": 3,
   "id": "122899e5",
   "metadata": {},
   "outputs": [],
   "source": [
    "from uproot_custom import AsCustom, registered_factories\n",
    "\n",
    "from my_reader import OverrideStreamerFactory\n",
    "\n",
    "# Register custom factory\n",
    "registered_factories.add(OverrideStreamerFactory)\n",
    "\n",
    "# Specify target branches\n",
    "AsCustom.target_branches.add(\"/my_tree:standalone_obj\")"
   ]
  },
  {
   "cell_type": "code",
   "execution_count": 4,
   "id": "d3d95cf6",
   "metadata": {},
   "outputs": [
    {
     "name": "stdout",
     "output_type": "stream",
     "text": [
      "name                                     | typename                                 | interpretation                \n",
      "-----------------------------------------+------------------------------------------+-------------------------------\n",
      "standalone_obj                           | TOverrideStreamer                        | AsCustom(TOverrideStreamer)   \n"
     ]
    }
   ],
   "source": [
    "f = uproot.open(\"demo-data.root\")\n",
    "b = f[\"my_tree/standalone_obj\"]\n",
    "b.show(name_width=40, typename_width=40)"
   ]
  },
  {
   "cell_type": "code",
   "execution_count": 5,
   "id": "f30920e3",
   "metadata": {},
   "outputs": [
    {
     "data": {
      "text/html": [
       "<pre>[{m_int: 0, m_double: 0},\n",
       " {m_int: 1, m_double: 3.14},\n",
       " {m_int: 2, m_double: 6.28},\n",
       " {m_int: 3, m_double: 9.42},\n",
       " {m_int: 4, m_double: 12.6},\n",
       " {m_int: 5, m_double: 15.7},\n",
       " {m_int: 6, m_double: 18.8},\n",
       " {m_int: 7, m_double: 22},\n",
       " {m_int: 8, m_double: 25.1},\n",
       " {m_int: 9, m_double: 28.3}]\n",
       "----------------------------\n",
       "backend: cpu\n",
       "nbytes: 120 B\n",
       "type: 10 * {\n",
       "    m_int: int32,\n",
       "    m_double: float64\n",
       "}</pre>"
      ],
      "text/plain": [
       "<Array [{m_int: 0, m_double: 0}, ..., {...}] type='10 * {m_int: int32, m_do...'>"
      ]
     },
     "execution_count": 5,
     "metadata": {},
     "output_type": "execute_result"
    }
   ],
   "source": [
    "b.array()"
   ]
  },
  {
   "cell_type": "markdown",
   "id": "a908d636",
   "metadata": {},
   "source": [
    "## Object in STL\n",
    "\n",
    "`uproot-custom` can automatically use the above reader and factory to read `TOverrideStreamer` objects stored in STL containers, such as `std::vector<TOverrideStreamer>` and `std::map<int, TOverrideStreamer>`:"
   ]
  },
  {
   "cell_type": "code",
   "execution_count": 6,
   "id": "47209f5c",
   "metadata": {},
   "outputs": [],
   "source": [
    "AsCustom.target_branches |= {\n",
    "    \"/my_tree:my_obj/m_objVec\",\n",
    "    \"/my_tree:my_obj/m_objMap/m_objMap.second\",\n",
    "}"
   ]
  },
  {
   "cell_type": "code",
   "execution_count": 7,
   "id": "23643045",
   "metadata": {},
   "outputs": [
    {
     "name": "stdout",
     "output_type": "stream",
     "text": [
      "name                                     | typename                                 | interpretation                \n",
      "-----------------------------------------+------------------------------------------+-------------------------------\n",
      "m_objVec                                 | vector<TOverrideStreamer>                | AsCustom(vector<TOverrideStrea\n",
      "name                                     | typename                                 | interpretation                \n",
      "-----------------------------------------+------------------------------------------+-------------------------------\n",
      "m_objMap.second                          | TOverrideStreamer[]                      | AsCustom(TOverrideStreamer[]) \n"
     ]
    }
   ],
   "source": [
    "f = uproot.open(\"demo-data.root\")\n",
    "\n",
    "b1 = f[\"my_tree/my_obj/m_objVec\"]\n",
    "b1.show(name_width=40, typename_width=40)\n",
    "\n",
    "b2 = f[\"my_tree/my_obj/m_objMap/m_objMap.second\"]\n",
    "b2.show(name_width=40, typename_width=40)"
   ]
  },
  {
   "cell_type": "code",
   "execution_count": 8,
   "id": "b141c62d",
   "metadata": {},
   "outputs": [
    {
     "data": {
      "text/html": [
       "<pre>[[{m_int: 0, m_double: 0}, {m_int: 1, ...}, ..., {m_int: 4, m_double: 12.6}],\n",
       " [{m_int: 1, m_double: 3.14}, {...}, ..., {...}, {m_int: 5, m_double: 15.7}],\n",
       " [{m_int: 2, m_double: 6.28}, {...}, ..., {...}, {m_int: 6, m_double: 18.8}],\n",
       " [{m_int: 3, m_double: 9.42}, {m_int: 4, ...}, ..., {m_int: 7, m_double: 22}],\n",
       " [{m_int: 4, m_double: 12.6}, {...}, ..., {...}, {m_int: 8, m_double: 25.1}],\n",
       " [{m_int: 5, m_double: 15.7}, {...}, ..., {...}, {m_int: 9, m_double: 28.3}],\n",
       " [{m_int: 6, m_double: 18.8}, {...}, ..., {...}, {m_int: 10, m_double: 31.4}],\n",
       " [{m_int: 7, m_double: 22}, {...}, ..., {...}, {m_int: 11, m_double: 34.5}],\n",
       " [{m_int: 8, m_double: 25.1}, {...}, ..., {...}, {m_int: 12, m_double: 37.7}],\n",
       " [{m_int: 9, m_double: 28.3}, {...}, ..., {...}, {m_int: 13, m_double: 40.8}]]\n",
       "------------------------------------------------------------------------------\n",
       "backend: cpu\n",
       "nbytes: 688 B\n",
       "type: 10 * var * {\n",
       "    m_int: int32,\n",
       "    m_double: float64\n",
       "}</pre>"
      ],
      "text/plain": [
       "<Array [[{m_int: 0, ...}, ..., {...}], ...] type='10 * var * {m_int: int32,...'>"
      ]
     },
     "execution_count": 8,
     "metadata": {},
     "output_type": "execute_result"
    }
   ],
   "source": [
    "b1.array()"
   ]
  },
  {
   "cell_type": "code",
   "execution_count": 9,
   "id": "3f276736",
   "metadata": {},
   "outputs": [
    {
     "data": {
      "text/html": [
       "<pre>[[{m_int: 0, m_double: 0}, {m_int: 10, ...}, ..., {m_int: 40, m_double: 126}],\n",
       " [{m_int: 1, m_double: 3.14}, {...}, ..., {...}, {m_int: 41, m_double: 129}],\n",
       " [{m_int: 2, m_double: 6.28}, {...}, ..., {...}, {m_int: 42, m_double: 132}],\n",
       " [{m_int: 3, m_double: 9.42}, {...}, ..., {...}, {m_int: 43, m_double: 135}],\n",
       " [{m_int: 4, m_double: 12.6}, {...}, ..., {...}, {m_int: 44, m_double: 138}],\n",
       " [{m_int: 5, m_double: 15.7}, {...}, ..., {...}, {m_int: 45, m_double: 141}],\n",
       " [{m_int: 6, m_double: 18.8}, {...}, ..., {...}, {m_int: 46, m_double: 144}],\n",
       " [{m_int: 7, m_double: 22}, {m_int: 17, ...}, ..., {m_int: 47, m_double: 148}],\n",
       " [{m_int: 8, m_double: 25.1}, {...}, ..., {...}, {m_int: 48, m_double: 151}],\n",
       " [{m_int: 9, m_double: 28.3}, {...}, ..., {...}, {m_int: 49, m_double: 154}]]\n",
       "-------------------------------------------------------------------------------\n",
       "backend: cpu\n",
       "nbytes: 688 B\n",
       "type: 10 * var * {\n",
       "    m_int: int32,\n",
       "    m_double: float64\n",
       "}</pre>"
      ],
      "text/plain": [
       "<Array [[{m_int: 0, ...}, ..., {...}], ...] type='10 * var * {m_int: int32,...'>"
      ]
     },
     "execution_count": 9,
     "metadata": {},
     "output_type": "execute_result"
    }
   ],
   "source": [
    "b2.array()"
   ]
  },
  {
   "cell_type": "markdown",
   "id": "55eba897",
   "metadata": {},
   "source": [
    "## Using `uproot.dask`\n",
    "\n",
    "Users know concrete structure of `awkward` contents, so the factory can also build the `awkward` form:\n",
    "\n",
    "```python\n",
    "class OverrideStreamerFactory(Factory):\n",
    "    # ... other codes ...\n",
    "    def make_awkward_form(self):\n",
    "        return awkward.forms.RecordForm(\n",
    "            [\n",
    "                awkward.forms.NumpyForm(\"int32\"),\n",
    "                awkward.forms.NumpyForm(\"float64\"),\n",
    "            ],\n",
    "            [\"m_int\", \"m_double\"],\n",
    "        )\n",
    "```\n",
    "\n",
    "so we can even use `uproot.dask` to read:"
   ]
  },
  {
   "cell_type": "code",
   "execution_count": 10,
   "id": "98819654",
   "metadata": {},
   "outputs": [
    {
     "data": {
      "text/plain": [
       "ArrayType(RecordType([RecordType([NumpyType('int32'), NumpyType('float64')], ['m_int', 'm_double'])], ['standalone_obj']), '??', None)"
      ]
     },
     "execution_count": 10,
     "metadata": {},
     "output_type": "execute_result"
    }
   ],
   "source": [
    "arr_dask = uproot.dask(\"demo-data.root:my_tree/standalone_obj\")\n",
    "arr_dask.type"
   ]
  },
  {
   "cell_type": "code",
   "execution_count": 11,
   "id": "20172031",
   "metadata": {},
   "outputs": [
    {
     "data": {
      "text/html": [
       "<pre>[{standalone_obj: {m_int: 0, m_double: 0}},\n",
       " {standalone_obj: {m_int: 1, m_double: 3.14}},\n",
       " {standalone_obj: {m_int: 2, m_double: 6.28}},\n",
       " {standalone_obj: {m_int: 3, m_double: 9.42}},\n",
       " {standalone_obj: {m_int: 4, m_double: 12.6}},\n",
       " {standalone_obj: {m_int: 5, m_double: 15.7}},\n",
       " {standalone_obj: {m_int: 6, m_double: 18.8}},\n",
       " {standalone_obj: {m_int: 7, m_double: 22}},\n",
       " {standalone_obj: {m_int: 8, m_double: 25.1}},\n",
       " {standalone_obj: {m_int: 9, m_double: 28.3}}]\n",
       "----------------------------------------------\n",
       "backend: cpu\n",
       "nbytes: 120 B\n",
       "type: 10 * {\n",
       "    standalone_obj: {\n",
       "        m_int: int32,\n",
       "        m_double: float64\n",
       "    }\n",
       "}</pre>"
      ],
      "text/plain": [
       "<Array [{standalone_obj: {...}}, ..., {...}] type='10 * {standalone_obj: {m...'>"
      ]
     },
     "execution_count": 11,
     "metadata": {},
     "output_type": "execute_result"
    }
   ],
   "source": [
    "arr_dask.compute()"
   ]
  }
 ],
 "metadata": {
  "kernelspec": {
   "display_name": ".venv",
   "language": "python",
   "name": "python3"
  },
  "language_info": {
   "codemirror_mode": {
    "name": "ipython",
    "version": 3
   },
   "file_extension": ".py",
   "mimetype": "text/x-python",
   "name": "python",
   "nbconvert_exporter": "python",
   "pygments_lexer": "ipython3",
   "version": "3.11.11"
  }
 },
 "nbformat": 4,
 "nbformat_minor": 5
}
