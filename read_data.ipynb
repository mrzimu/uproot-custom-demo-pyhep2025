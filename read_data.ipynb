{
 "cells": [
  {
   "cell_type": "code",
   "execution_count": null,
   "metadata": {},
   "outputs": [],
   "source": [
    "import awkward as ak\n",
    "import uproot\n",
    "\n",
    "import my_reader"
   ]
  },
  {
   "cell_type": "code",
   "execution_count": 2,
   "metadata": {},
   "outputs": [
    {
     "name": "stdout",
     "output_type": "stream",
     "text": [
      "name                                     | typename                                 | interpretation                \n",
      "-----------------------------------------+------------------------------------------+-------------------------------\n",
      "override_streamer                        | TOverrideStreamer                        | AsCustom(TOverrideStreamer)\n",
      "obj_in_stl                               | TObjInSTL                                | AsGroup(<TBranchElement 'ob...\n",
      "obj_in_stl/TObject                       | (group of fUniqueID:uint32_t, fBits:u... | AsGroup(<TBranchElement 'TO...\n",
      "obj_in_stl/TObject/fUniqueID             | uint32_t                                 | AsDtype('>u4')\n",
      "obj_in_stl/TObject/fBits                 | uint32_t                                 | AsDtype('>u4')\n",
      "obj_in_stl/m_objVec                      | vector<TOverrideStreamer>                | AsCustom(vector<TOverrideSt...\n",
      "obj_in_stl/m_objMap                      | map<int,TOverrideStreamer>               | AsGroup(<TBranchElement 'm_...\n",
      "obj_in_stl/m_objMap/m_objMap.first       | int32_t[]                                | AsJagged(AsDtype('>i4'))\n",
      "obj_in_stl/m_objMap/m_objMap.second      | TOverrideStreamer[]                      | AsCustom(TOverrideStreamer[])\n"
     ]
    }
   ],
   "source": [
    "f = uproot.open(\"demo-data.root\")\n",
    "t = f[\"my_tree\"]\n",
    "t.show(name_width=40, typename_width=40)"
   ]
  },
  {
   "cell_type": "code",
   "execution_count": 7,
   "metadata": {},
   "outputs": [
    {
     "name": "stdout",
     "output_type": "stream",
     "text": [
      "[{m_int: 0, m_double: 0},\n",
      " {m_int: 1, m_double: 3.14},\n",
      " {m_int: 2, m_double: 6.28},\n",
      " {m_int: 3, m_double: 9.42},\n",
      " {m_int: 4, m_double: 12.6},\n",
      " {m_int: 5, m_double: 15.7},\n",
      " {m_int: 6, m_double: 18.8},\n",
      " {m_int: 7, m_double: 22},\n",
      " {m_int: 8, m_double: 25.1},\n",
      " {m_int: 9, m_double: 28.3}]\n"
     ]
    }
   ],
   "source": [
    "arr1 = t[\"override_streamer\"].array()\n",
    "arr1.show()"
   ]
  },
  {
   "cell_type": "code",
   "execution_count": 8,
   "metadata": {},
   "outputs": [
    {
     "name": "stdout",
     "output_type": "stream",
     "text": [
      "[[{m_int: 0, m_double: 0}, {m_int: 1, ...}, ..., {m_int: 4, m_double: 12.6}],\n",
      " [{m_int: 1, m_double: 3.14}, {...}, ..., {...}, {m_int: 5, m_double: 15.7}],\n",
      " [{m_int: 2, m_double: 6.28}, {...}, ..., {...}, {m_int: 6, m_double: 18.8}],\n",
      " [{m_int: 3, m_double: 9.42}, {m_int: 4, ...}, ..., {m_int: 7, m_double: 22}],\n",
      " [{m_int: 4, m_double: 12.6}, {...}, ..., {...}, {m_int: 8, m_double: 25.1}],\n",
      " [{m_int: 5, m_double: 15.7}, {...}, ..., {...}, {m_int: 9, m_double: 28.3}],\n",
      " [{m_int: 6, m_double: 18.8}, {...}, ..., {...}, {m_int: 10, m_double: 31.4}],\n",
      " [{m_int: 7, m_double: 22}, {...}, ..., {...}, {m_int: 11, m_double: 34.5}],\n",
      " [{m_int: 8, m_double: 25.1}, {...}, ..., {...}, {m_int: 12, m_double: 37.7}],\n",
      " [{m_int: 9, m_double: 28.3}, {...}, ..., {...}, {m_int: 13, m_double: 40.8}]]\n"
     ]
    }
   ],
   "source": [
    "arr2 = t[\"obj_in_stl/m_objVec\"].array()\n",
    "arr2.show()"
   ]
  },
  {
   "cell_type": "code",
   "execution_count": 9,
   "metadata": {},
   "outputs": [
    {
     "name": "stdout",
     "output_type": "stream",
     "text": [
      "[[{m_int: 0, m_double: 0}, {m_int: 10, ...}, ..., {m_int: 40, m_double: 126}],\n",
      " [{m_int: 1, m_double: 3.14}, {...}, ..., {...}, {m_int: 41, m_double: 129}],\n",
      " [{m_int: 2, m_double: 6.28}, {...}, ..., {...}, {m_int: 42, m_double: 132}],\n",
      " [{m_int: 3, m_double: 9.42}, {...}, ..., {...}, {m_int: 43, m_double: 135}],\n",
      " [{m_int: 4, m_double: 12.6}, {...}, ..., {...}, {m_int: 44, m_double: 138}],\n",
      " [{m_int: 5, m_double: 15.7}, {...}, ..., {...}, {m_int: 45, m_double: 141}],\n",
      " [{m_int: 6, m_double: 18.8}, {...}, ..., {...}, {m_int: 46, m_double: 144}],\n",
      " [{m_int: 7, m_double: 22}, {m_int: 17, ...}, ..., {m_int: 47, m_double: 148}],\n",
      " [{m_int: 8, m_double: 25.1}, {...}, ..., {...}, {m_int: 48, m_double: 151}],\n",
      " [{m_int: 9, m_double: 28.3}, {...}, ..., {...}, {m_int: 49, m_double: 154}]]\n"
     ]
    }
   ],
   "source": [
    "arr3 = t[\"obj_in_stl/m_objMap/m_objMap.second\"].array()\n",
    "arr3.show()"
   ]
  }
 ],
 "metadata": {
  "kernelspec": {
   "display_name": ".venv",
   "language": "python",
   "name": "python3"
  },
  "language_info": {
   "codemirror_mode": {
    "name": "ipython",
    "version": 3
   },
   "file_extension": ".py",
   "mimetype": "text/x-python",
   "name": "python",
   "nbconvert_exporter": "python",
   "pygments_lexer": "ipython3",
   "version": "3.12.3"
  }
 },
 "nbformat": 4,
 "nbformat_minor": 2
}
